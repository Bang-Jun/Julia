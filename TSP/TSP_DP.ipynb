{
 "cells": [
  {
   "cell_type": "code",
   "execution_count": 1,
   "metadata": {},
   "outputs": [],
   "source": [
    "using JuMP, Gurobi, Concorde\n",
    "import GLPK\n",
    "import Random\n",
    "import Plots"
   ]
  },
  {
   "cell_type": "markdown",
   "metadata": {},
   "source": [
    "Gerenrate distance matrix"
   ]
  },
  {
   "cell_type": "code",
   "execution_count": 87,
   "metadata": {},
   "outputs": [
    {
     "data": {
      "text/plain": [
       "4×4 Matrix{Int64}:\n",
       "  0  30  47  56\n",
       " 30   0  74  86\n",
       " 47  74   0  31\n",
       " 56  86  31   0"
      ]
     },
     "metadata": {},
     "output_type": "display_data"
    }
   ],
   "source": [
    "function generate_distance_matrix(n; random_seed = 1)\n",
    "    rng = Random.MersenneTwister(random_seed)\n",
    "    X = 100 * rand(rng, n)\n",
    "    Y = 100 * rand(rng, n)\n",
    "    d = [round(Int, sqrt((X[i] - X[j])^2 + (Y[i] - Y[j])^2)) for i in 1:n, j in 1:n]\n",
    "    return X, Y, d\n",
    "end\n",
    "\n",
    "n = 4\n",
    "X, Y, d = generate_distance_matrix(n)\n",
    "d"
   ]
  },
  {
   "cell_type": "markdown",
   "metadata": {},
   "source": [
    "Bitmask를 이용하여 어떤 도시들을 지나왔는지 기록"
   ]
  },
  {
   "cell_type": "code",
   "execution_count": 88,
   "metadata": {},
   "outputs": [
    {
     "name": "stdout",
     "output_type": "stream",
     "text": [
      "Result in binary: 1111\n"
     ]
    }
   ],
   "source": [
    "i = 5 # Replace this with your desired value of i\n",
    "result = (1 << (i-1)) -1\n",
    "\n",
    "println(\"Result in binary: \", string(result, base=2))"
   ]
  },
  {
   "cell_type": "markdown",
   "metadata": {},
   "source": [
    "Forward DP with Trajectory"
   ]
  },
  {
   "cell_type": "code",
   "execution_count": 89,
   "metadata": {},
   "outputs": [
    {
     "name": "stdout",
     "output_type": "stream",
     "text": [
      "tour: [1, 4, 3, 2]\n",
      "cost: 191.0\n"
     ]
    }
   ],
   "source": [
    "function tsp_dynamic_programming_forward()\n",
    "    memo = fill((Inf, 1), n, 1 << n) # (cost, last_pos), (current_pos, mask)\n",
    "    memo[1, 1] = (0, 0)\n",
    "    \n",
    "    for mask in 1:(1 << n) - 1\n",
    "        for s in 1:n\n",
    "            if (mask & (1 << (s - 1))) != 0\n",
    "                for j in 1:n\n",
    "                    if (mask & (1 << (j - 1))) == 0\n",
    "                        if memo[j, mask | (1 << (j - 1))][1] > memo[s, mask][1] + d[s, j]\n",
    "                            memo[j, mask | (1 << (j - 1))] = (memo[s, mask][1] + d[s, j], s)\n",
    "                        end\n",
    "                    end\n",
    "                end\n",
    "            end\n",
    "        end\n",
    "    end\n",
    "\n",
    "    # find answer\n",
    "    ans = 10^9\n",
    "    last_pos = 0\n",
    "    for i in 2:n\n",
    "        if ans > memo[i, (1 << n) - 1][1] + d[i, 1]\n",
    "            ans = memo[i, (1 << n) - 1][1] + d[i, 1]\n",
    "            last_pos = i\n",
    "        end\n",
    "    end\n",
    "    \n",
    "    # find trajectory\n",
    "    trajectory = [last_pos]\n",
    "    last_mask = (1 << n) - 1\n",
    "    for i in 1:n-1\n",
    "        push!(trajectory, memo[trajectory[end], last_mask][2])\n",
    "        last_mask = last_mask & ~ (1 << (trajectory[end-1]-1))\n",
    "    end\n",
    "    trajectory = reverse(trajectory)\n",
    "\n",
    "    return trajectory, ans\n",
    "end\n",
    "\n",
    "\n",
    "result_trajectory, result_ans = tsp_dynamic_programming_forward()\n",
    "\n",
    "# Print the result\n",
    "println(\"tour: \", result_trajectory)\n",
    "println(\"cost: \", result_ans)\n"
   ]
  },
  {
   "cell_type": "markdown",
   "metadata": {},
   "source": [
    "Backward DP with Trajectory"
   ]
  },
  {
   "cell_type": "code",
   "execution_count": 99,
   "metadata": {},
   "outputs": [
    {
     "name": "stdout",
     "output_type": "stream",
     "text": [
      "mask: 0111, pos: 3\n",
      "Key: (0111, 3), Value: (87, 4)\n",
      "mask: 1011, pos: 4\n",
      "Key: (1011, 4), Value: (78, 3)\n",
      "Key: (0111, 3), Value: (87, 4)\n",
      "mask: 0011, pos: 2\n",
      "Key: (1011, 4), Value: (78, 3)\n",
      "Key: (0011, 2), Value: (161, 3)\n",
      "Key: (0111, 3), Value: (87, 4)\n",
      "mask: 0111, pos: 2\n",
      "Key: (1011, 4), Value: (78, 3)\n",
      "Key: (0011, 2), Value: (161, 3)\n",
      "Key: (0111, 2), Value: (142, 4)\n",
      "Key: (0111, 3), Value: (87, 4)\n",
      "mask: 1101, pos: 4\n",
      "Key: (1011, 4), Value: (78, 3)\n",
      "Key: (0011, 2), Value: (161, 3)\n",
      "Key: (0111, 2), Value: (142, 4)\n",
      "Key: (0111, 3), Value: (87, 4)\n",
      "Key: (1101, 4), Value: (116, 2)\n",
      "mask: 0101, pos: 3\n",
      "Key: (1011, 4), Value: (78, 3)\n",
      "Key: (0011, 2), Value: (161, 3)\n",
      "Key: (0111, 2), Value: (142, 4)\n",
      "Key: (0101, 3), Value: (147, 4)\n",
      "Key: (0111, 3), Value: (87, 4)\n",
      "Key: (1101, 4), Value: (116, 2)\n",
      "mask: 1011, pos: 2\n",
      "Key: (1011, 4), Value: (78, 3)\n",
      "Key: (0011, 2), Value: (161, 3)\n",
      "Key: (0111, 2), Value: (142, 4)\n",
      "Key: (1011, 2), Value: (121, 3)\n",
      "Key: (0101, 3), Value: (147, 4)\n",
      "Key: (0111, 3), Value: (87, 4)\n",
      "Key: (1101, 4), Value: (116, 2)\n",
      "mask: 1101, pos: 3\n",
      "Key: (1011, 4), Value: (78, 3)\n",
      "Key: (0011, 2), Value: (161, 3)\n",
      "Key: (0111, 2), Value: (142, 4)\n",
      "Key: (1011, 2), Value: (121, 3)\n",
      "Key: (0101, 3), Value: (147, 4)\n",
      "Key: (1101, 3), Value: (104, 2)\n",
      "Key: (0111, 3), Value: (87, 4)\n",
      "Key: (1101, 4), Value: (116, 2)\n",
      "mask: 1001, pos: 4\n",
      "Key: (1011, 4), Value: (78, 3)\n",
      "Key: (0011, 2), Value: (161, 3)\n",
      "Key: (1001, 4), Value: (135, 3)\n",
      "Key: (0111, 2), Value: (142, 4)\n",
      "Key: (1011, 2), Value: (121, 3)\n",
      "Key: (0101, 3), Value: (147, 4)\n",
      "Key: (1101, 3), Value: (104, 2)\n",
      "Key: (0111, 3), Value: (87, 4)\n",
      "Key: (1101, 4), Value: (116, 2)\n",
      "mask: 0001, pos: 1\n",
      "Key: (1011, 4), Value: (78, 3)\n",
      "Key: (0011, 2), Value: (161, 3)\n",
      "Key: (1001, 4), Value: (135, 3)\n",
      "Key: (0001, 1), Value: (191, 2)\n",
      "Key: (0111, 2), Value: (142, 4)\n",
      "Key: (1011, 2), Value: (121, 3)\n",
      "Key: (0101, 3), Value: (147, 4)\n",
      "Key: (1101, 3), Value: (104, 2)\n",
      "Key: (0111, 3), Value: (87, 4)\n",
      "Key: (1101, 4), Value: (116, 2)\n",
      "cost: 191.0\n",
      "tour: Any[1, 4, 3, 3, 4, 2, 4, 3, 2, 3, 2]\n"
     ]
    },
    {
     "data": {
      "text/plain": [
       "4×4 Matrix{Int64}:\n",
       "  0  30  47  56\n",
       " 30   0  74  86\n",
       " 47  74   0  31\n",
       " 56  86  31   0"
      ]
     },
     "metadata": {},
     "output_type": "display_data"
    }
   ],
   "source": [
    "function tsp_dynamic_programming_backward(distance_matrix)\n",
    "    n = size(distance_matrix, 1)\n",
    "    num_states = 2^n\n",
    "    memo = Dict{Tuple{Int, Int}, Tuple{Int, Int}}() # key: (mask, current_pos), value: (cost, next_pos)\n",
    "    trajectory = []\n",
    "    result, traj = tsp(memo, distance_matrix, 1, 1, n, trajectory)\n",
    "\n",
    "    #=\n",
    "    # print memo \n",
    "    for (key, value) in pairs(memo)\n",
    "        binary_mask = bitstring(key[1])[end-3:end]\n",
    "        println(\"Key: ($binary_mask, $(key[2])), Value: $value\")\n",
    "    end\n",
    "    =#\n",
    "\n",
    "    return result, traj\n",
    "end\n",
    "\n",
    "function tsp(memo, distance_matrix, mask, pos, n, trajectory)\n",
    "    if haskey(memo, (mask, pos)) # already computed\n",
    "        return memo[(mask, pos)]\n",
    "    end\n",
    "\n",
    "    if mask == 2^n - 1 # all cities visited\n",
    "        return (distance_matrix[pos, 1], 1)\n",
    "    end\n",
    "\n",
    "    min_cost = Inf\n",
    "    next_pos = 0\n",
    "    for next_city in 2:n\n",
    "        if (mask & (1 << (next_city - 1))) == 0 # next_city is not visited.\n",
    "            new_mask = mask | (1 << (next_city - 1))\n",
    "            new_cost = distance_matrix[pos, next_city] + tsp(memo, distance_matrix, new_mask, next_city, n, trajectory)[1][1]\n",
    "            if min_cost > new_cost\n",
    "                next_pos = next_city\n",
    "            end\n",
    "            min_cost = min(min_cost, new_cost)\n",
    "        end\n",
    "    end\n",
    "    push!(trajectory, next_pos)\n",
    "    memo[(mask, pos)] = (min_cost, next_pos)\n",
    "    mask = bitstring(mask)[end-3:end]\n",
    "    # print memo\n",
    "    println(\"mask: $mask, pos: $pos\")\n",
    "    for (key, value) in pairs(memo)\n",
    "        binary_mask = bitstring(key[1])[end-3:end]\n",
    "        println(\"Key: ($binary_mask, $(key[2])), Value: $value\")\n",
    "    end\n",
    "\n",
    "    return (min_cost, next_pos), trajectory\n",
    "end\n",
    "\n",
    "distances = d\n",
    "\n",
    "result, traj = tsp_dynamic_programming_backward(distances)\n",
    "println(\"cost: $(result[1])\")\n",
    "println(\"tour: \", [1; traj])\n",
    "\n",
    "d"
   ]
  },
  {
   "cell_type": "markdown",
   "metadata": {},
   "source": [
    "Concorde"
   ]
  },
  {
   "cell_type": "code",
   "execution_count": 81,
   "metadata": {},
   "outputs": [
    {
     "data": {
      "text/plain": [
       "([1, 4, 3, 2], 191)"
      ]
     },
     "metadata": {},
     "output_type": "display_data"
    }
   ],
   "source": [
    "opt_tour, opt_len = solve_tsp(X, Y; dist=\"EUC_2D\")"
   ]
  },
  {
   "cell_type": "markdown",
   "metadata": {},
   "source": [
    "Recursion"
   ]
  },
  {
   "cell_type": "code",
   "execution_count": 8,
   "metadata": {},
   "outputs": [
    {
     "name": "stdout",
     "output_type": "stream",
     "text": [
      "The cost of most efficient tour = Inf\n"
     ]
    }
   ],
   "source": [
    "#=\n",
    "s: starting point \n",
    "mask: 지나갔는지 안지나갔는지 확인 \n",
    "=#\n",
    "\n",
    "# distance matrix\n",
    "d =[\n",
    "    0  10 15 20;\n",
    "    10 0  35 25;\n",
    "    15 35 0  30;\n",
    "    20 25 30 0\n",
    "]\n",
    "\n",
    "# define n\n",
    "rows , cols = size(d)\n",
    "n = rows\n",
    "\n",
    "# memo\n",
    "memo = fill(Inf, (n, 1 << n))\n",
    "\n",
    "function are_two_set_bits(mask)\n",
    "    count_set_bits = 0\n",
    "    while mask > 0\n",
    "        count_set_bits += mask & 1\n",
    "        mask >>= 1\n",
    "    end\n",
    "    return count_set_bits == 2\n",
    "end\n",
    "\n",
    "function indices_of_set_bits(mask)\n",
    "    indices = Int[]\n",
    "    position = 1\n",
    "    \n",
    "    while mask > 0\n",
    "        if mask & 1 == 1\n",
    "            push!(indices, position)\n",
    "        end\n",
    "        mask >>= 1\n",
    "        position += 1\n",
    "    end\n",
    "    return indices\n",
    "end\n",
    "\n",
    "function tsp_dynamic_programming(mask, s)\n",
    "    # s는 지나감\n",
    "    mask = mask | (1 << (s-1))\n",
    "    \n",
    "    # base case, 먼가 여기서 잘못된거 같은데... base case어떻게 고쳐야 할까요? -> 맞게 고친것 같은데 \n",
    "    indices = indices_of_set_bits(mask)\n",
    "    if are_two_set_bits(mask)\n",
    "        memo[s, mask] = 0\n",
    "    end\n",
    "\n",
    "    #memoization\n",
    "    if memo[s, mask] != Inf\n",
    "        return memo[s, mask]\n",
    "    end\n",
    "    res = Inf\n",
    "    for i in 1:n\n",
    "        if mask & (1 << (i-1)) == 0 && i != s\n",
    "            updated_mask = mask | (1 << (i-1))\n",
    "            val = tsp_dynamic_programming(updated_mask, i) + d[i, s]\n",
    "            res = val # res 값이 업데이트가 되지 않는다. \n",
    "        end\n",
    "    end\n",
    "    memo[s, mask] = res\n",
    "    \n",
    "    return res\n",
    "end\n",
    "\n",
    "ans = Inf\n",
    "for j in 1:n\n",
    "    ans = min(ans, tsp_dynamic_programming((1 << (n-1)) - 1, j) + d[1, j])\n",
    "end\n",
    "println(\"The cost of most efficient tour = $ans\")"
   ]
  }
 ],
 "metadata": {
  "kernelspec": {
   "display_name": "Julia 1.9.4",
   "language": "julia",
   "name": "julia-1.9"
  },
  "language_info": {
   "file_extension": ".jl",
   "mimetype": "application/julia",
   "name": "julia",
   "version": "1.9.4"
  }
 },
 "nbformat": 4,
 "nbformat_minor": 2
}
