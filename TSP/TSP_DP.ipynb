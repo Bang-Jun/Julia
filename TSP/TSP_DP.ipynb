{
 "cells": [
  {
   "cell_type": "code",
   "execution_count": 2,
   "metadata": {},
   "outputs": [],
   "source": [
    "using JuMP, Gurobi\n",
    "import GLPK\n",
    "import Random\n",
    "import Plots"
   ]
  },
  {
   "cell_type": "code",
   "execution_count": 3,
   "metadata": {},
   "outputs": [
    {
     "data": {
      "text/plain": [
       "([23.603334566204694, 34.651701419196044, 31.27069683360675, 0.790928339056074], [48.86128300795012, 21.096820215853597, 95.1916339835734, 99.99046588986135], [0.0 29.881964531335456 46.960513899062235 55.987491639154314; 29.881964531335456 0.0 74.17191260363222 85.85312621751531; 46.960513899062235 74.17191260363222 0.0 30.855227679377304; 55.987491639154314 85.85312621751531 30.855227679377304 0.0])"
      ]
     },
     "metadata": {},
     "output_type": "display_data"
    }
   ],
   "source": [
    "function generate_distance_matrix(n; random_seed = 1)\n",
    "    rng = Random.MersenneTwister(random_seed)\n",
    "    X = 100 * rand(rng, n)\n",
    "    Y = 100 * rand(rng, n)\n",
    "    d = [sqrt((X[i] - X[j])^2 + (Y[i] - Y[j])^2) for i in 1:n, j in 1:n]\n",
    "    return X, Y, d\n",
    "end\n",
    "\n",
    "n = 4\n",
    "X, Y, d = generate_distance_matrix(n)"
   ]
  },
  {
   "cell_type": "code",
   "execution_count": 13,
   "metadata": {},
   "outputs": [
    {
     "data": {
      "text/plain": [
       "4×4 Matrix{Int64}:\n",
       "  0  10  15  20\n",
       " 10   0  35  25\n",
       " 15  35   0  30\n",
       " 20  25  30   0"
      ]
     },
     "metadata": {},
     "output_type": "display_data"
    }
   ],
   "source": [
    "d = [\n",
    "    0 10 15 20;\n",
    "    10 0 25 25;\n",
    "    15 25 0 30;\n",
    "    20 25 30 0;\n",
    "]\n"
   ]
  },
  {
   "cell_type": "code",
   "execution_count": 335,
   "metadata": {},
   "outputs": [
    {
     "name": "stdout",
     "output_type": "stream",
     "text": [
      "Minimum tour length using memoization: 80.0\n"
     ]
    }
   ],
   "source": [
    "function tsp_dynamic_programming_memoization(distance_matrix)\n",
    "    n = size(distance_matrix, 1)\n",
    "    num_states = 2^n\n",
    "    memo = Dict{Tuple{Int, Int}, Int}()\n",
    "\n",
    "    function tsp(mask, pos)\n",
    "        if haskey(memo, (mask, pos))\n",
    "            return memo[(mask, pos)]\n",
    "        end\n",
    "\n",
    "        if mask == 2^n - 1\n",
    "            return distance_matrix[pos, 1]\n",
    "        end\n",
    "\n",
    "        min_cost = Inf\n",
    "        for next_city in 2:n\n",
    "            if (mask & (1 << (next_city - 1))) == 0\n",
    "                new_mask = mask | (1 << (next_city - 1))\n",
    "                new_cost = distance_matrix[pos, next_city] + tsp(new_mask, next_city)\n",
    "                min_cost = min(min_cost, new_cost)\n",
    "            end\n",
    "        end\n",
    "\n",
    "        memo[(mask, pos)] = min_cost\n",
    "        return min_cost\n",
    "    end\n",
    "\n",
    "    return tsp(1, 1)\n",
    "end\n",
    "\n",
    "# Example usage\n",
    "distances = [\n",
    "    0  10 15 20;\n",
    "    10 0  35 25;\n",
    "    15 35 0  30;\n",
    "    20 25 30 0\n",
    "]\n",
    "\n",
    "result = tsp_dynamic_programming_memoization(distances)\n",
    "println(\"Minimum tour length using memoization: $result\")\n"
   ]
  },
  {
   "cell_type": "code",
   "execution_count": 346,
   "metadata": {},
   "outputs": [
    {
     "name": "stdout",
     "output_type": "stream",
     "text": [
      "The cost of most efficient tour = Inf\n"
     ]
    }
   ],
   "source": [
    "#=\n",
    "s: starting point \n",
    "mask: 지나갔는지 안지나갔는지 확인 \n",
    "=#\n",
    "\n",
    "# distance matrix\n",
    "d =[\n",
    "    0  10 15 20;\n",
    "    10 0  35 25;\n",
    "    15 35 0  30;\n",
    "    20 25 30 0\n",
    "]\n",
    "\n",
    "# define n\n",
    "rows , cols = size(d)\n",
    "n = rows\n",
    "\n",
    "# memo\n",
    "memo = fill(Inf, (n, 1 << n))\n",
    "\n",
    "function are_two_set_bits(mask)\n",
    "    count_set_bits = 0\n",
    "    while mask > 0\n",
    "        count_set_bits += mask & 1\n",
    "        mask >>= 1\n",
    "    end\n",
    "    return count_set_bits == 2\n",
    "end\n",
    "\n",
    "function indices_of_set_bits(mask)\n",
    "    indices = Int[]\n",
    "    position = 1\n",
    "    \n",
    "    while mask > 0\n",
    "        if mask & 1 == 1\n",
    "            push!(indices, position)\n",
    "        end\n",
    "        mask >>= 1\n",
    "        position += 1\n",
    "    end\n",
    "    return indices\n",
    "end\n",
    "\n",
    "function tsp_dynamic_programming(mask, s)\n",
    "    # s는 지나감\n",
    "    mask = mask | (1 << (s-1))\n",
    "    \n",
    "    # base case, 먼가 여기서 잘못된거 같은데... base case어떻게 고쳐야 할까요? -> 맞게 고친것 같은데 \n",
    "    indices = indices_of_set_bits(mask)\n",
    "    if are_two_set_bits(mask)\n",
    "        memo[s, mask] = 0\n",
    "    end\n",
    "\n",
    "    #memoization\n",
    "    if memo[s, mask] != Inf\n",
    "        return memo[s, mask]\n",
    "    end\n",
    "    res = Inf\n",
    "    for i in 1:n\n",
    "        if mask & (1 << (i-1)) == 0 && i != s\n",
    "            updated_mask = mask | (1 << (i-1))\n",
    "            val = tsp_dynamic_programming(updated_mask, i) + d[i, s]\n",
    "            res = val # res 값이 업데이트가 되지 않는다. \n",
    "        end\n",
    "    end\n",
    "    memo[s, mask] = res\n",
    "    \n",
    "    return res\n",
    "end\n",
    "\n",
    "ans = Inf\n",
    "for j in 1:n\n",
    "    ans = min(ans, tsp_dynamic_programming((1 << (n-1)) - 1, j) + d[1, j])\n",
    "end\n",
    "println(\"The cost of most efficient tour = $ans\")"
   ]
  },
  {
   "cell_type": "code",
   "execution_count": 306,
   "metadata": {},
   "outputs": [
    {
     "data": {
      "text/plain": [
       "([23.603334566204694, 34.651701419196044, 31.27069683360675, 0.790928339056074, 48.86128300795012, 21.096820215853597, 95.1916339835734, 99.99046588986135, 25.166218303197184, 98.66663668987997, 55.57510873245724, 43.71079746096251, 42.471785049513144, 77.3223048457377, 28.11902322857298, 20.947237319807076, 25.137920979222493, 2.037486871266725, 28.77015122756894, 85.9512136087661], [7.695088688120899, 64.03962459899388, 87.35441302706855, 27.85824200287785, 75.13126327861701, 64.4883353942093, 7.782644396003469, 84.81854810000327, 8.56351682044918, 55.32055454580578, 46.33502459235987, 18.582130997265377, 11.198087695816717, 97.6311881619359, 5.161462067432709, 53.80295812064833, 45.56920516275036, 27.93951106725605, 17.824610354168602, 54.89828719625274], [0.0 57.417533359853884 … 11.371156651593584 78.20102282262022; 57.417533359853884 0.0 … 46.587768505328015 52.107619408284236; … ; 11.371156651593584 46.587768505328015 … 0.0 68.1478643072081; 78.20102282262022 52.107619408284236 … 68.1478643072081 0.0])"
      ]
     },
     "metadata": {},
     "output_type": "display_data"
    }
   ],
   "source": [
    "function generate_distance_matrix(n; random_seed = 1)\n",
    "    rng = Random.MersenneTwister(random_seed)\n",
    "    X = 100 * rand(rng, n)\n",
    "    Y = 100 * rand(rng, n)\n",
    "    d = [sqrt((X[i] - X[j])^2 + (Y[i] - Y[j])^2) for i in 1:n, j in 1:n]\n",
    "    return X, Y, d\n",
    "end\n",
    "\n",
    "n = 20\n",
    "X, Y, d = generate_distance_matrix(n)"
   ]
  },
  {
   "cell_type": "code",
   "execution_count": 326,
   "metadata": {},
   "outputs": [
    {
     "name": "stdout",
     "output_type": "stream",
     "text": [
      "The cost of the most efficient tour = 80.0\n"
     ]
    }
   ],
   "source": [
    "function tsp_dynamic_programming()\n",
    "    memo = fill(Inf, n, 1 << n)\n",
    "    memo[1, 1] = 0\n",
    "    \n",
    "    for mask in 1:(1 << n) - 1\n",
    "        for s in 1:n\n",
    "            if (mask & (1 << (s - 1))) != 0\n",
    "                for j in 1:n\n",
    "                    if (mask & (1 << (j - 1))) == 0\n",
    "                        memo[j, mask | (1 << (j - 1))] = min(memo[j, mask | (1 << (j - 1))], memo[s, mask] + d[s, j])\n",
    "                    end\n",
    "                end\n",
    "            end\n",
    "        end\n",
    "    end\n",
    "    \n",
    "    ans = 10^9\n",
    "    for i in 2:n\n",
    "        ans = min(ans, memo[i, (1 << n) - 1] + d[i, 1])\n",
    "    end\n",
    "    \n",
    "    return ans\n",
    "end\n",
    "\n",
    "result = tsp_dynamic_programming()\n",
    "println(\"The cost of the most efficient tour = $result\")\n"
   ]
  },
  {
   "cell_type": "code",
   "execution_count": null,
   "metadata": {},
   "outputs": [],
   "source": [
    "i = 5 # Replace this with your desired value of i\n",
    "result = (1 << (i-1)) -1\n",
    "\n",
    "println(\"Result in binary: \", string(result, base=2))"
   ]
  },
  {
   "cell_type": "code",
   "execution_count": 312,
   "metadata": {},
   "outputs": [
    {
     "data": {
      "text/plain": [
       "indices_of_set_bits (generic function with 1 method)"
      ]
     },
     "metadata": {},
     "output_type": "display_data"
    }
   ],
   "source": [
    "function indices_of_set_bits(mask)\n",
    "    indices = Int[]\n",
    "    position = 1\n",
    "    \n",
    "    while mask > 0\n",
    "        if mask & 1 == 1\n",
    "            push!(indices, position)\n",
    "        end\n",
    "        mask >>= 1\n",
    "        position += 1\n",
    "    end\n",
    "    \n",
    "    return indices\n",
    "end"
   ]
  },
  {
   "cell_type": "code",
   "execution_count": 316,
   "metadata": {},
   "outputs": [
    {
     "name": "stdout",
     "output_type": "stream",
     "text": [
      "[2, 4]"
     ]
    }
   ],
   "source": [
    "mask = 0b01010\n",
    "print(indices_of_set_bits(mask))"
   ]
  },
  {
   "cell_type": "code",
   "execution_count": 323,
   "metadata": {},
   "outputs": [
    {
     "data": {
      "text/plain": [
       "tsp_dynamic_programming (generic function with 3 methods)"
      ]
     },
     "metadata": {},
     "output_type": "display_data"
    }
   ],
   "source": [
    "function tsp_dynamic_programming(mask, s)\n",
    "    println(\"Entering tsp_dynamic_programming with mask=$mask, s=$s\")\n",
    "\n",
    "    # visited[s] = 1, s는 지나감\n",
    "    mask = mask | (1 << (s-1))\n",
    "    \n",
    "    # base case\n",
    "    indices = indices_of_set_bits(mask)\n",
    "    if are_two_set_bits(mask)\n",
    "        return d[indices[1], indices[2]]\n",
    "    end\n",
    "\n",
    "    # memoization\n",
    "    if memo[s, mask] != Inf\n",
    "        return memo[s, mask]\n",
    "    end\n",
    "\n",
    "    res = 10^9\n",
    "    for i in 1:n\n",
    "        if mask & (1 << (i-1)) == 0 && i != s \n",
    "            updated_mask = mask | (1 << (i-1))\n",
    "            res = min(res, tsp_dynamic_programming(updated_mask, i) + d[i, s])\n",
    "        end\n",
    "    end\n",
    "\n",
    "    memo[s, mask] = res\n",
    "    println(\"Exiting tsp_dynamic_programming with mask=$mask, s=$s, res=$res\")\n",
    "    return res\n",
    "end\n"
   ]
  }
 ],
 "metadata": {
  "kernelspec": {
   "display_name": "Julia 1.9.4",
   "language": "julia",
   "name": "julia-1.9"
  },
  "language_info": {
   "file_extension": ".jl",
   "mimetype": "application/julia",
   "name": "julia",
   "version": "1.9.4"
  }
 },
 "nbformat": 4,
 "nbformat_minor": 2
}
