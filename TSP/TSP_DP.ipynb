{
 "cells": [
  {
   "cell_type": "code",
   "execution_count": 1,
   "metadata": {},
   "outputs": [],
   "source": [
    "using JuMP, Gurobi\n",
    "import GLPK\n",
    "import Random\n",
    "import Plots"
   ]
  },
  {
   "cell_type": "code",
   "execution_count": 48,
   "metadata": {},
   "outputs": [
    {
     "data": {
      "text/plain": [
       "([23.603334566204694, 34.651701419196044, 31.27069683360675, 0.790928339056074], [48.86128300795012, 21.096820215853597, 95.1916339835734, 99.99046588986135], [0.0 29.881964531335456 46.960513899062235 55.987491639154314; 29.881964531335456 0.0 74.17191260363222 85.85312621751531; 46.960513899062235 74.17191260363222 0.0 30.855227679377304; 55.987491639154314 85.85312621751531 30.855227679377304 0.0])"
      ]
     },
     "metadata": {},
     "output_type": "display_data"
    }
   ],
   "source": [
    "function generate_distance_matrix(n; random_seed = 1)\n",
    "    rng = Random.MersenneTwister(random_seed)\n",
    "    X = 100 * rand(rng, n)\n",
    "    Y = 100 * rand(rng, n)\n",
    "    d = [sqrt((X[i] - X[j])^2 + (Y[i] - Y[j])^2) for i in 1:n, j in 1:n]\n",
    "    return X, Y, d\n",
    "end\n",
    "\n",
    "n = 4\n",
    "X, Y, d = generate_distance_matrix(n)"
   ]
  },
  {
   "cell_type": "code",
   "execution_count": 166,
   "metadata": {},
   "outputs": [
    {
     "data": {
      "text/plain": [
       "4×4 Matrix{Int64}:\n",
       "  0  10  15  20\n",
       " 10   0  35  25\n",
       " 15  35   0  30\n",
       " 20  25  30   0"
      ]
     },
     "metadata": {},
     "output_type": "display_data"
    }
   ],
   "source": [
    "d = [\n",
    "    0 10 15 20;\n",
    "    10 0 25 25;\n",
    "    15 25 0 30;\n",
    "    20 25 30 0;\n",
    "]\n",
    "d =[\n",
    "    0  10 15 20;\n",
    "    10 0  35 25;\n",
    "    15 35 0  30;\n",
    "    20 25 30 0\n",
    "]"
   ]
  },
  {
   "cell_type": "code",
   "execution_count": 167,
   "metadata": {},
   "outputs": [
    {
     "data": {
      "text/plain": [
       "4×16 Matrix{Float64}:\n",
       " Inf  Inf  Inf  Inf  Inf  Inf  Inf  Inf  …  Inf  Inf  Inf  Inf  Inf  Inf  Inf\n",
       " Inf  Inf  Inf  Inf  Inf  Inf  Inf  Inf     Inf  Inf  Inf  Inf  Inf  Inf  Inf\n",
       " Inf  Inf  Inf  Inf  Inf  Inf  Inf  Inf     Inf  Inf  Inf  Inf  Inf  Inf  Inf\n",
       " Inf  Inf  Inf  Inf  Inf  Inf  Inf  Inf     Inf  Inf  Inf  Inf  Inf  Inf  Inf"
      ]
     },
     "metadata": {},
     "output_type": "display_data"
    }
   ],
   "source": [
    "memo = fill(Inf, n, 1 << n)\n",
    "memo"
   ]
  },
  {
   "cell_type": "code",
   "execution_count": 181,
   "metadata": {},
   "outputs": [
    {
     "data": {
      "text/plain": [
       "TSP_DP (generic function with 1 method)"
      ]
     },
     "metadata": {},
     "output_type": "display_data"
    }
   ],
   "source": [
    "function TSP_DP(i, mask)\n",
    "    #base case\n",
    "    d[1, 1] = 0\n",
    "    if mask == ((1 << i) | 1) \n",
    "        return d[1,i]\n",
    "    end\n",
    "    #memoization\n",
    "    if memo[i, mask] != -1\n",
    "        return memo[i, mask]\n",
    "    end\n",
    "\n",
    "    res = 10^9\n",
    "    for j in 1:n\n",
    "        if (mask & (1<<j-1)) != 0 && j != i && j != 1\n",
    "            res = min(res, TSP_DP(j, mask & (~(1 << i-1))) + d[j, i])\n",
    "        end\n",
    "    end\n",
    "    memo[i, mask] = res\n",
    "    return res\n",
    "end"
   ]
  },
  {
   "cell_type": "code",
   "execution_count": 182,
   "metadata": {},
   "outputs": [
    {
     "name": "stdout",
     "output_type": "stream",
     "text": [
      "The cost of most efficient tour = 1.0e9"
     ]
    }
   ],
   "source": [
    "ans = 10^9\n",
    "for i in 1:n\n",
    "    ans = min(ans, TSP_DP(i, (1 << n)-1) + d[i, 1])\n",
    "end\n",
    "print(\"The cost of most efficient tour = $ans\")"
   ]
  },
  {
   "cell_type": "code",
   "execution_count": 190,
   "metadata": {},
   "outputs": [
    {
     "data": {
      "text/plain": [
       "tsp_dynamic_programming (generic function with 1 method)"
      ]
     },
     "metadata": {},
     "output_type": "display_data"
    }
   ],
   "source": [
    "function tsp_dynamic_programming(distance_matrix)\n",
    "    n = size(distance_matrix, 1)\n",
    "    num_states = 2^n\n",
    "    dp = fill(Inf, n, num_states)\n",
    "\n",
    "    # Initialize the base case\n",
    "    dp[1, 1] = 0\n",
    "\n",
    "    # Calculate the minimum distance for each state\n",
    "    for mask in 1:num_states\n",
    "        for u in 2:n\n",
    "            if (mask & (1 << (u - 1))) != 0\n",
    "                for v in 1:n\n",
    "                    if v != u && (mask & (1 << (v - 1))) != 0\n",
    "                        dp[u, mask] = min(dp[u, mask], dp[v, mask - (1 << (u - 1))] + distance_matrix[v, u])\n",
    "                    end\n",
    "                end\n",
    "            end\n",
    "        end\n",
    "    end\n",
    "\n",
    "    # Calculate the minimum tour length\n",
    "    tour_length = Inf\n",
    "    for u in 2:n\n",
    "        tour_length = min(tour_length, dp[u, num_states - 1] + distance_matrix[u, 1])\n",
    "        println(dp)\n",
    "    end\n",
    "    return tour_length\n",
    "end "
   ]
  },
  {
   "cell_type": "code",
   "execution_count": 191,
   "metadata": {},
   "outputs": [
    {
     "name": "stdout",
     "output_type": "stream",
     "text": [
      "[0.0 Inf Inf Inf Inf Inf Inf Inf Inf Inf Inf Inf Inf Inf Inf Inf; Inf Inf 10.0 Inf Inf Inf 50.0 Inf Inf Inf 45.0 Inf Inf Inf 70.0 Inf; Inf Inf Inf Inf 15.0 Inf 45.0 Inf Inf Inf Inf Inf 50.0 Inf 65.0 Inf; Inf Inf Inf Inf Inf Inf Inf Inf 20.0 Inf 35.0 Inf 45.0 Inf 75.0 Inf]\n",
      "[0.0 Inf Inf Inf Inf Inf Inf Inf Inf Inf Inf Inf Inf Inf Inf Inf; Inf Inf 10.0 Inf Inf Inf 50.0 Inf Inf Inf 45.0 Inf Inf Inf 70.0 Inf; Inf Inf Inf Inf 15.0 Inf 45.0 Inf Inf Inf Inf Inf 50.0 Inf 65.0 Inf; Inf Inf Inf Inf Inf Inf Inf Inf 20.0 Inf 35.0 Inf 45.0 Inf 75.0 Inf]\n",
      "[0.0 Inf Inf Inf Inf Inf Inf Inf Inf Inf Inf Inf Inf Inf Inf Inf; Inf Inf 10.0 Inf Inf Inf 50.0 Inf Inf Inf 45.0 Inf Inf Inf 70.0 Inf; Inf Inf Inf Inf 15.0 Inf 45.0 Inf Inf Inf Inf Inf 50.0 Inf 65.0 Inf; Inf Inf Inf Inf Inf Inf Inf Inf 20.0 Inf 35.0 Inf 45.0 Inf 75.0 Inf]\n",
      "Minimum tour length for cities:80.0\n"
     ]
    }
   ],
   "source": [
    "tour_length = tsp_dynamic_programming(d)\n",
    "println(\"Minimum tour length for cities:\", tour_length)\n"
   ]
  },
  {
   "cell_type": "code",
   "execution_count": 186,
   "metadata": {},
   "outputs": [
    {
     "name": "stdout",
     "output_type": "stream",
     "text": [
      "Minimum tour length using memoization: 80.0\n"
     ]
    }
   ],
   "source": [
    "function tsp_dynamic_programming_memoization(distance_matrix)\n",
    "    n = size(distance_matrix, 1)\n",
    "    num_states = 2^n\n",
    "    memo = Dict{Tuple{Int, Int}, Int}()\n",
    "\n",
    "    function tsp(mask, pos)\n",
    "        if haskey(memo, (mask, pos))\n",
    "            return memo[(mask, pos)]\n",
    "        end\n",
    "\n",
    "        if mask == 2^n - 1\n",
    "            return distance_matrix[pos, 1]\n",
    "        end\n",
    "\n",
    "        min_cost = Inf\n",
    "        for next_city in 2:n\n",
    "            if (mask & (1 << (next_city - 1))) == 0\n",
    "                new_mask = mask | (1 << (next_city - 1))\n",
    "                new_cost = distance_matrix[pos, next_city] + tsp(new_mask, next_city)\n",
    "                min_cost = min(min_cost, new_cost)\n",
    "            end\n",
    "        end\n",
    "\n",
    "        memo[(mask, pos)] = min_cost\n",
    "        return min_cost\n",
    "    end\n",
    "\n",
    "    return tsp(1, 1)\n",
    "end\n",
    "\n",
    "# Example usage\n",
    "distances = [\n",
    "    0  10 15 20;\n",
    "    10 0  35 25;\n",
    "    15 35 0  30;\n",
    "    20 25 30 0\n",
    "]\n",
    "\n",
    "result = tsp_dynamic_programming_memoization(distances)\n",
    "println(\"Minimum tour length using memoization: $result\")\n"
   ]
  }
 ],
 "metadata": {
  "kernelspec": {
   "display_name": "Julia 1.9.4",
   "language": "julia",
   "name": "julia-1.9"
  },
  "language_info": {
   "file_extension": ".jl",
   "mimetype": "application/julia",
   "name": "julia",
   "version": "1.9.4"
  }
 },
 "nbformat": 4,
 "nbformat_minor": 2
}
