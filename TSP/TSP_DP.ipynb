{
 "cells": [
  {
   "cell_type": "code",
   "execution_count": 3,
   "metadata": {},
   "outputs": [],
   "source": [
    "using JuMP, Gurobi\n",
    "import GLPK\n",
    "import Random\n",
    "import Plots"
   ]
  },
  {
   "cell_type": "code",
   "execution_count": 4,
   "metadata": {},
   "outputs": [
    {
     "data": {
      "text/plain": [
       "7×7 Matrix{Int64}:\n",
       "  0  76   8  50  62  58  75\n",
       " 76   0  74  46  23  22  80\n",
       "  8  74   0  53  58  57  67\n",
       " 50  46  53   0  50  24  97\n",
       " 62  23  58  50   0  28  57\n",
       " 58  22  57  24  28   0  82\n",
       " 75  80  67  97  57  82   0"
      ]
     },
     "metadata": {},
     "output_type": "display_data"
    }
   ],
   "source": [
    "function generate_distance_matrix(n; random_seed = 1)\n",
    "    rng = Random.MersenneTwister(random_seed)\n",
    "    X = 100 * rand(rng, n)\n",
    "    Y = 100 * rand(rng, n)\n",
    "    d = [round(Int, sqrt((X[i] - X[j])^2 + (Y[i] - Y[j])^2)) for i in 1:n, j in 1:n]\n",
    "    return X, Y, d\n",
    "end\n",
    "\n",
    "n = 7\n",
    "X, Y, d = generate_distance_matrix(n)\n",
    "d"
   ]
  },
  {
   "cell_type": "code",
   "execution_count": 5,
   "metadata": {},
   "outputs": [
    {
     "name": "stdout",
     "output_type": "stream",
     "text": [
      "Result in binary: 1111\n"
     ]
    }
   ],
   "source": [
    "i = 5 # Replace this with your desired value of i\n",
    "result = (1 << (i-1)) -1\n",
    "\n",
    "println(\"Result in binary: \", string(result, base=2))"
   ]
  },
  {
   "cell_type": "code",
   "execution_count": 6,
   "metadata": {},
   "outputs": [
    {
     "name": "stdout",
     "output_type": "stream",
     "text": [
      "Minimum tour length using memoization: 251.0\n"
     ]
    }
   ],
   "source": [
    "function tsp_dynamic_programming_memoization(distance_matrix)\n",
    "    n = size(distance_matrix, 1)\n",
    "    num_states = 2^n\n",
    "    memo = Dict{Tuple{Int, Int}, Int}() # mask, pos를 key로 사용 \n",
    "\n",
    "    return tsp(memo, distance_matrix, 1, 1, n)\n",
    "end\n",
    "\n",
    "function tsp(memo, distance_matrix, mask, pos, n)\n",
    "    if haskey(memo, (mask, pos)) # 이미 계산된 부분인지 확인 \n",
    "        return memo[(mask, pos)]\n",
    "    end\n",
    "\n",
    "    if mask == 2^n - 1 # 전부 다 방문함 \n",
    "        return distance_matrix[pos, 1]\n",
    "    end\n",
    "\n",
    "    min_cost = Inf\n",
    "    for next_city in 2:n\n",
    "        if (mask & (1 << (next_city - 1))) == 0 # next_city is not visited.\n",
    "            new_mask = mask | (1 << (next_city - 1))\n",
    "            new_cost = distance_matrix[pos, next_city] + tsp(memo, distance_matrix, new_mask, next_city, n)\n",
    "            min_cost = min(min_cost, new_cost)\n",
    "        end\n",
    "    end\n",
    "\n",
    "    memo[(mask, pos)] = min_cost\n",
    "    return min_cost\n",
    "end\n",
    "\n",
    "distances = d\n",
    "\n",
    "result = tsp_dynamic_programming_memoization(distances)\n",
    "println(\"Minimum tour length using memoization: $result\")"
   ]
  },
  {
   "cell_type": "code",
   "execution_count": 7,
   "metadata": {},
   "outputs": [
    {
     "name": "stdout",
     "output_type": "stream",
     "text": [
      "The cost of the most efficient tour = 251.0\n"
     ]
    }
   ],
   "source": [
    "function tsp_dynamic_programming()\n",
    "    memo = fill(Inf, n, 1 << n)\n",
    "    memo[1, 1] = 0\n",
    "    \n",
    "    for mask in 1:(1 << n) - 1\n",
    "        for s in 1:n\n",
    "            if (mask & (1 << (s - 1))) != 0 # if city s is visited.\n",
    "                for j in 2:n\n",
    "                    if (mask & (1 << (j - 1))) == 0 # if city j is not visited.\n",
    "                        #=\n",
    "                        if memo[j, mask | (1 << (j - 1))] > memo[s, mask] + d[s, j] && memo[j, mask | (1 << (j - 1))] != Inf\n",
    "                            println(\"$(memo[j, mask | (1 << (j - 1))]) vs $(memo[s, mask] + d[s, j])\")\n",
    "                        end\n",
    "                        =#\n",
    "                        memo[j, mask | (1 << (j - 1))] = min(memo[j, mask | (1 << (j - 1))], memo[s, mask] + d[s, j]) \n",
    "                    end\n",
    "                end\n",
    "            end\n",
    "        end\n",
    "    end\n",
    "    \n",
    "    ans = Inf\n",
    "    for i in 2:n\n",
    "        ans = min(ans, memo[i, (1 << n) - 1] + d[i, 1])\n",
    "    end\n",
    "    \n",
    "    return ans\n",
    "end\n",
    "\n",
    "result = tsp_dynamic_programming()\n",
    "println(\"The cost of the most efficient tour = $result\")\n"
   ]
  },
  {
   "cell_type": "code",
   "execution_count": null,
   "metadata": {},
   "outputs": [],
   "source": []
  }
 ],
 "metadata": {
  "kernelspec": {
   "display_name": "Julia 1.9.4",
   "language": "julia",
   "name": "julia-1.9"
  },
  "language_info": {
   "file_extension": ".jl",
   "mimetype": "application/julia",
   "name": "julia",
   "version": "1.9.4"
  }
 },
 "nbformat": 4,
 "nbformat_minor": 2
}
